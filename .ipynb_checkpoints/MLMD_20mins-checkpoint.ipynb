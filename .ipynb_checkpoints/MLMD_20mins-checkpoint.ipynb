{
 "cells": [
  {
   "cell_type": "markdown",
   "id": "da73d487-8606-4f71-aa75-7a512cbda8eb",
   "metadata": {},
   "source": [
    "# What is crystal structure"
   ]
  },
  {
   "cell_type": "markdown",
   "id": "2352defe-d2f0-40b9-9020-3da32e2f3d22",
   "metadata": {},
   "source": [
    "1. Watch the video: [Video](https://youtu.be/3W1QA26RZtU)\n",
    "2. Answer the questions:\n",
    "   - Where do we see crystal structures in real life?\n",
    "   - The crystal structure of which substance is shown in the video?\n",
    "   - What are differences between water molecule and ice?\n",
    "   - What is crystal structure?"
   ]
  },
  {
   "cell_type": "code",
   "execution_count": null,
   "id": "d4ecf8d0-39ba-484e-853c-bc58c378e52f",
   "metadata": {},
   "outputs": [],
   "source": []
  },
  {
   "cell_type": "markdown",
   "id": "dd4d0aa1-d4f4-41d1-8c5f-f8e6de4ee21c",
   "metadata": {},
   "source": [
    "# How to describe crystal structure"
   ]
  },
  {
   "cell_type": "markdown",
   "id": "b7009eb9-b4e3-462a-bdd0-910b941266b9",
   "metadata": {},
   "source": [
    "[Периодические граничные](https://en.wikipedia.org/wiki/Periodic_boundary_conditions) условия описываются следующим образом:\n",
    "\n",
    "Пусть бесконечная периодическая структура задана векторами трансляции $\\vec{a}$, $\\vec{b}$, $\\vec{c}$ и точкой $r$.\n",
    "\n",
    "Тогда произвольную точку $r'$ данной структуру можно описать выражением:\n",
    "\n",
    "$ r' = r + n_1\\vec{a} + n_2\\vec{b} + n_3\\vec{c}, $\n",
    "\n",
    "где $n_1$, $n_2$, $n_3$ - произвольные целые числа."
   ]
  },
  {
   "cell_type": "markdown",
   "id": "a9b1e892-8e6d-4d03-b766-5a9e49c3b22e",
   "metadata": {
    "id": "950217f9-1a22-4a2b-aefe-2ebdcae8b2bb"
   },
   "source": [
    "Для того, чтобы рассмотреть примеры нам понадобятся 4 библиотеки:"
   ]
  },
  {
   "cell_type": "code",
   "execution_count": 2,
   "id": "449293d9-c790-4847-9183-67c009a604ac",
   "metadata": {
    "executionInfo": {
     "elapsed": 575,
     "status": "ok",
     "timestamp": 1664989582360,
     "user": {
      "displayName": "Кирилл",
      "userId": "18181508316840793232"
     },
     "user_tz": -180
    },
    "id": "b07b733b-2dd3-4ed1-bfd3-0891342a6a50"
   },
   "outputs": [
    {
     "name": "stdout",
     "output_type": "stream",
     "text": [
      "Intel MKL WARNING: Support of Intel(R) Streaming SIMD Extensions 4.2 (Intel(R) SSE4.2) enabled only processors has been deprecated. Intel oneAPI Math Kernel Library 2025.0 will require Intel(R) Advanced Vector Extensions (Intel(R) AVX) instructions.\n",
      "Intel MKL WARNING: Support of Intel(R) Streaming SIMD Extensions 4.2 (Intel(R) SSE4.2) enabled only processors has been deprecated. Intel oneAPI Math Kernel Library 2025.0 will require Intel(R) Advanced Vector Extensions (Intel(R) AVX) instructions.\n"
     ]
    }
   ],
   "source": [
    "import pandas as pd\n",
    "import numpy as np\n",
    "from itertools import product, combinations, permutations, combinations_with_replacement\n",
    "import matplotlib.pyplot as plt\n",
    "from matplotlib.pyplot import figure"
   ]
  },
  {
   "cell_type": "markdown",
   "id": "7bd332d0-f8a3-46ec-9f66-cdc324d1abb7",
   "metadata": {
    "id": "799e83ba-5dd9-48df-a97a-cd47b979b1ff"
   },
   "source": [
    "## Одномерный случай"
   ]
  },
  {
   "cell_type": "markdown",
   "id": "8eb66954-7704-4ff3-8213-f2b7c9e7627d",
   "metadata": {
    "id": "f074e862-1473-4c2a-87d7-97a7eb2346f4"
   },
   "source": [
    "В одномерном случае базис векторов трансляции определеяющий структуру $ T = n_1\\vec{a} + n_2\\vec{b} + n_3\\vec{c} $ определен одним числом $n$ и одним вектором $\\vec{a}$,\n",
    "\n",
    "и приобретает вид:\n",
    "\n",
    "$T = n*\\vec{a}$\n",
    "\n",
    "Тогда любая произвольная точка рассматриваемого одномерного пространства будет определена координатой $r'$, с учётом базиса векторов трансляции $T$ для рассматривамого одномерного случая:\n",
    "\n",
    "$ r' = r + n\\vec{a}, $ \n",
    "- где $n$ - любое произвольное число"
   ]
  },
  {
   "cell_type": "markdown",
   "id": "136b78c3-4491-427f-8efa-d28465ee59e7",
   "metadata": {
    "id": "62bea03c-082e-4bcd-bff2-fa9a08340076"
   },
   "source": [
    "Зададим периодические граничные условия, описывающее любую точку рассматриваемого пространства и \n",
    "\n",
    "поместим объект - материальную точку $r$ с координатой $[0]$ - в структуру, заданую вектором трансляции $T = [1]$ ($\\vec{a} = [1]$).\n",
    "\n",
    "Зададим `x = 0` в точке пространства, определяемой числом `n = 0` (трансляция точки в себя)"
   ]
  },
  {
   "cell_type": "code",
   "execution_count": 100,
   "id": "2777b2ad-a943-4bf6-998e-6456acc1bdb6",
   "metadata": {
    "executionInfo": {
     "elapsed": 323,
     "status": "ok",
     "timestamp": 1664989653429,
     "user": {
      "displayName": "Кирилл",
      "userId": "18181508316840793232"
     },
     "user_tz": -180
    },
    "id": "b9aed979-061b-45d9-94f7-58d7187993d4"
   },
   "outputs": [],
   "source": [
    "# Translation vector a\n",
    "a =np.array([1])\n",
    "\n",
    "# Coordinate of defined point (1 dimentional)\n",
    "r = np.array([0])\n",
    "\n",
    "# Structural scaling factors\n",
    "n = [0]"
   ]
  },
  {
   "cell_type": "markdown",
   "id": "f6f3b95b-0915-4f62-8335-8e9d385ce12d",
   "metadata": {
    "id": "c89ac71e-5567-4dc2-927d-c5737788a5af"
   },
   "source": [
    "Значение функции описывающей периодические граничные условия:\n",
    "\n",
    "`r_prime = r + n*a`\n",
    "\n",
    "зависит только от задаваемой точки $r$, набора трансляций $n$ и вектора трансляции $\\vec{a}$ "
   ]
  },
  {
   "cell_type": "code",
   "execution_count": 101,
   "id": "475a78d1-04bf-41dc-8f7f-1ff3a2db948e",
   "metadata": {
    "executionInfo": {
     "elapsed": 267,
     "status": "ok",
     "timestamp": 1664989667453,
     "user": {
      "displayName": "Кирилл",
      "userId": "18181508316840793232"
     },
     "user_tz": -180
    },
    "id": "f7076218-928c-4f62-9366-5f016ff0faed"
   },
   "outputs": [],
   "source": [
    "def plot_1dim(a,r,n):\n",
    "    # Periodic Boundary Conditions (PBC)\n",
    "    r_prime = r + n*a\n",
    "    \n",
    "    # Plotting params without any physical information    \n",
    "    fig, ax = plt.subplots(figsize=(5, 1))\n",
    "    y = [0]*len(r_prime)\n",
    "    plt.plot(r_prime,y, 'o')\n",
    "    ax.spines['top'].set_visible(False)\n",
    "    ax.spines['right'].set_visible(False)\n",
    "    ax.spines['left'].set_visible(False)\n",
    "    plt.tick_params(axis='y', which='both', left=False, right=False, labelleft=False)\n",
    "    plt.show()"
   ]
  },
  {
   "cell_type": "markdown",
   "id": "685f7bed-d577-44c4-8c2e-329698631832",
   "metadata": {
    "id": "7f4302a1-6b58-4bf0-87f6-3fbf4fde618a"
   },
   "source": [
    "Построим:"
   ]
  },
  {
   "cell_type": "code",
   "execution_count": 102,
   "id": "81e0e397-1c24-405f-9857-75a264f318db",
   "metadata": {
    "colab": {
     "base_uri": "https://localhost:8080/",
     "height": 102
    },
    "executionInfo": {
     "elapsed": 285,
     "status": "ok",
     "timestamp": 1664989671074,
     "user": {
      "displayName": "Кирилл",
      "userId": "18181508316840793232"
     },
     "user_tz": -180
    },
    "id": "406c72d2-0193-4420-b966-556ebc799ee4",
    "outputId": "6d275b4f-77b3-41a3-a341-d34008c42613"
   },
   "outputs": [
    {
     "data": {
      "image/png": "[encoded data removed]",
      "text/plain": [
       "<Figure size 500x100 with 1 Axes>"
      ]
     },
     "metadata": {},
     "output_type": "display_data"
    }
   ],
   "source": [
    "plot_1dim(a,r,n)"
   ]
  },
  {
   "cell_type": "markdown",
   "id": "a24b82a2-3f7c-4a43-9e48-7b9b38527e3c",
   "metadata": {
    "id": "1fb5a774-d1de-4690-8f3c-d378a493d894"
   },
   "source": [
    "Зададим последовательность чисел n которая определит несклько точек $r`$:"
   ]
  },
  {
   "cell_type": "code",
   "execution_count": 103,
   "id": "c2d27955-5c4c-42ff-a8e9-e7b6853df795",
   "metadata": {
    "executionInfo": {
     "elapsed": 294,
     "status": "ok",
     "timestamp": 1664989703191,
     "user": {
      "displayName": "Кирилл",
      "userId": "18181508316840793232"
     },
     "user_tz": -180
    },
    "id": "8cbac9a2-0e51-4ad7-ab5b-135088de88e4"
   },
   "outputs": [],
   "source": [
    "n = np.arange(-5, 5, 1)"
   ]
  },
  {
   "cell_type": "code",
   "execution_count": 104,
   "id": "ae5cd6ed-3c10-4486-aacf-420dfa6d33e5",
   "metadata": {
    "colab": {
     "base_uri": "https://localhost:8080/",
     "height": 119
    },
    "executionInfo": {
     "elapsed": 301,
     "status": "ok",
     "timestamp": 1664989719320,
     "user": {
      "displayName": "Кирилл",
      "userId": "18181508316840793232"
     },
     "user_tz": -180
    },
    "id": "54acbba8-e5e1-4ecf-bd9d-10964f1f93ac",
    "outputId": "fadfe8f0-9231-4e82-8ad2-35f8a8c27f5f"
   },
   "outputs": [
    {
     "name": "stdout",
     "output_type": "stream",
     "text": [
      "Набор чисел n: [-5 -4 -3 -2 -1  0  1  2  3  4]\n"
     ]
    },
    {
     "data": {
      "image/png": "[encoded data removed]",
      "text/plain": [
       "<Figure size 500x100 with 1 Axes>"
      ]
     },
     "metadata": {},
     "output_type": "display_data"
    }
   ],
   "source": [
    "print(f'Набор чисел n: {n}')\n",
    "plot_1dim(a,r,n)"
   ]
  },
  {
   "cell_type": "markdown",
   "id": "f322fb1b-c9b7-4481-aad4-dc94b6ecc96d",
   "metadata": {
    "id": "8d5736b0-5e93-4867-8731-9e5b24b37128"
   },
   "source": [
    "Пусть любое число $n_i$ из набора чисел $n$ описывается выражением $n_i=n_{i-1}+1$, для всех $n\\in{Z}$ (по определению),\n",
    "\n",
    "тогда, если бы указанное выражение, описывало кристаллическую структуру, то получено описание бесконечной периодической структуры:\n",
    "\n",
    "Вектор трансляции: `a = [1]`, с координатами едиственно описанного вида атомов, в базисе {a}: `r=[0]`\n"
   ]
  },
  {
   "cell_type": "markdown",
   "id": "9cb0d578-9636-4d44-8c59-576071673892",
   "metadata": {
    "id": "66f4c3a8-115e-49e5-ac98-d641133ab13f"
   },
   "source": [
    "## Двумерный случай"
   ]
  },
  {
   "cell_type": "markdown",
   "id": "9c940193-cf3b-4226-8294-ea3da0b23a88",
   "metadata": {
    "id": "2785da04-19e9-4802-aba6-4350277cac4f"
   },
   "source": [
    "В двумерном случае базис векторов трансляции определеяющий структуру $ T = n_1\\vec{a} + n_2\\vec{b} + n_3\\vec{c} $ определен двумя числами $n$ и двумя векторами $\\vec{a}$ и $\\vec{b}$.\n",
    "\n",
    "Базис приобретает вид:\n",
    "\n",
    "$T = n_1*\\vec{a} + n_2*\\vec{b}$\n",
    "\n",
    "Тогда любая произвольная точка рассматриваемого одномерного пространства будет определена координатой $r'$, с учётом базиса векторов трансляции $T$ для рассматривамого **двумерного** случая:\n",
    "\n",
    "$ r' = r + n_1*\\vec{a} + n_2*\\vec{b} $ \n",
    "- где $n_i$ - любое произвольное число"
   ]
  },
  {
   "cell_type": "markdown",
   "id": "d733d436-2702-4e22-be99-f0b8865d1255",
   "metadata": {
    "id": "1447ff59-e3df-415e-a159-a384e589f869"
   },
   "source": [
    "Зададим структуру множествами чисел `n_1` и `n_2` в базисе векторов трансляции `a = np.array([1,0])` и `b = np.array([0,1])`\n",
    "\n",
    "и зададим единственный вид условных атомов точкой `r = 0`"
   ]
  },
  {
   "cell_type": "code",
   "execution_count": 105,
   "id": "147f87e9-7dbf-44f3-a12d-9236dc423435",
   "metadata": {
    "executionInfo": {
     "elapsed": 295,
     "status": "ok",
     "timestamp": 1664989947391,
     "user": {
      "displayName": "Кирилл",
      "userId": "18181508316840793232"
     },
     "user_tz": -180
    },
    "id": "e44ff4fb-a3b9-4525-8da9-bfc2f4827b2b"
   },
   "outputs": [],
   "source": [
    "# Translation vectors a,b\n",
    "a = np.array([1,0])\n",
    "b = np.array([0,1])\n",
    "\n",
    "# Coordinate of defined point (2 dimentional)\n",
    "r = np.array([0,0])\n",
    "\n",
    "# translations sets\n",
    "n_1 = np.arange(-5, 5, 1)\n",
    "n_2 = np.arange(-5, 5, 1)"
   ]
  },
  {
   "cell_type": "markdown",
   "id": "09e69748-ad25-4c12-87fc-1d6984717b8c",
   "metadata": {
    "id": "85c013a7-354a-4153-b14a-12fdc7459c7d"
   },
   "source": [
    "Определим функцию для построения двумерной структуры:"
   ]
  },
  {
   "cell_type": "code",
   "execution_count": 106,
   "id": "8ff2d8da-7352-4cb7-b482-960f0131bad6",
   "metadata": {
    "executionInfo": {
     "elapsed": 330,
     "status": "ok",
     "timestamp": 1664989998220,
     "user": {
      "displayName": "Кирилл",
      "userId": "18181508316840793232"
     },
     "user_tz": -180
    },
    "id": "6978e1d1-3fdf-4bdc-89b8-cd424927bbbb"
   },
   "outputs": [],
   "source": [
    "def get_xy(a, b, r, n_1, n_2):\n",
    "    xes, ycs = [], []\n",
    "    for n in product(n_1, n_2, repeat=1):\n",
    "        # Periodic Boundary Conditions (PBC)\n",
    "        r_prime = r + n[0]*a + n[1]*b\n",
    "        xes.append(r_prime[0])\n",
    "        ycs.append(r_prime[1])\n",
    "    return xes, ycs   "
   ]
  },
  {
   "cell_type": "markdown",
   "id": "f46f5b38-a20e-4c7a-9e15-2cfdb5a7bf42",
   "metadata": {
    "id": "3d4c0468-7a72-484a-b686-7fbf35a01e21"
   },
   "source": [
    "Построим полученный набор точек:"
   ]
  },
  {
   "cell_type": "code",
   "execution_count": 109,
   "id": "b303926f-4847-4f5e-841a-ed72e3abd59e",
   "metadata": {
    "colab": {
     "base_uri": "https://localhost:8080/",
     "height": 324
    },
    "executionInfo": {
     "elapsed": 273,
     "status": "ok",
     "timestamp": 1664990028352,
     "user": {
      "displayName": "Кирилл",
      "userId": "18181508316840793232"
     },
     "user_tz": -180
    },
    "id": "0867507e-ed43-40e7-ad1c-5e990dbb2303",
    "outputId": "00e9d942-537f-4edb-f167-2525dbbb2e2c"
   },
   "outputs": [
    {
     "data": {
      "image/png": "[encoded data removed]",
      "text/plain": [
       "<Figure size 500x500 with 1 Axes>"
      ]
     },
     "metadata": {},
     "output_type": "display_data"
    }
   ],
   "source": [
    "xes, ycs = get_xy(a, b, r, n_1, n_2)\n",
    "fig, ax = plt.subplots(figsize=(5, 5))\n",
    "plt.plot(xes, ycs, 'bo')\n",
    "# plt.xlim(-3,3) ; plt.ylim(-3,3)\n",
    "plt.show()"
   ]
  },
  {
   "cell_type": "markdown",
   "id": "583f82e8-aaaa-4d7d-846c-e0cfac37d939",
   "metadata": {},
   "source": [
    "# Описание периодических структур"
   ]
  },
  {
   "cell_type": "markdown",
   "id": "a9dbb5d2-a8b0-4994-8b68-36284263b309",
   "metadata": {
    "id": "4b4519b2-8fb7-4cb0-86dd-8cc7a878e229"
   },
   "source": [
    "## Описание центрированной структуры"
   ]
  },
  {
   "cell_type": "markdown",
   "id": "25711bf4-d855-4cc0-a586-e6f9ffffbc4e",
   "metadata": {
    "id": "432f9013-10d1-46c0-8975-63eeff916ee6"
   },
   "source": [
    "Более сложная центрированная структура всё ещё с одним типом атомов:"
   ]
  },
  {
   "cell_type": "code",
   "execution_count": 110,
   "id": "b4ed849a-fc5a-4318-bd47-e75155f98064",
   "metadata": {
    "executionInfo": {
     "elapsed": 380,
     "status": "ok",
     "timestamp": 1664990130273,
     "user": {
      "displayName": "Кирилл",
      "userId": "18181508316840793232"
     },
     "user_tz": -180
    },
    "id": "20b9aadd-aea9-4e85-844a-a57c9f1e26b3"
   },
   "outputs": [],
   "source": [
    "a = np.array([1,0])\n",
    "b = np.array([0,1])\n",
    "\n",
    "r_1 = [0.0,0.0] # corner site atom\n",
    "r_2 = [0.5,0.5] # centered atom\n",
    "\n",
    "# translation sets\n",
    "n_1 = np.arange(-4, 4, 1)\n",
    "n_2 = np.arange(-4, 4, 1)"
   ]
  },
  {
   "cell_type": "code",
   "execution_count": 111,
   "id": "829c0efb-163f-43f9-b7b2-ebc36ffae1be",
   "metadata": {
    "colab": {
     "base_uri": "https://localhost:8080/",
     "height": 320
    },
    "executionInfo": {
     "elapsed": 384,
     "status": "ok",
     "timestamp": 1664990138339,
     "user": {
      "displayName": "Кирилл",
      "userId": "18181508316840793232"
     },
     "user_tz": -180
    },
    "id": "a95fb67f-5a89-49ad-b65c-acb0e1db65c8",
    "outputId": "2e1e1ee9-f47d-4aff-8b64-bc701aa98940"
   },
   "outputs": [
    {
     "data": {
      "image/png": "[encoded data removed]",
      "text/plain": [
       "<Figure size 500x500 with 1 Axes>"
      ]
     },
     "metadata": {},
     "output_type": "display_data"
    }
   ],
   "source": [
    "xes_1, ycs_1 = get_xy(a, b, r_1, n_1, n_2)\n",
    "xes_2, ycs_2 = get_xy(a, b, r_2, n_1, n_2)\n",
    "\n",
    "fig, ax = plt.subplots(figsize=(5, 5))\n",
    "\n",
    "plt.plot(xes_1, ycs_1, 'bo')\n",
    "plt.plot(xes_2, ycs_2, 'bo')\n",
    "\n",
    "# Original points\n",
    "plt.plot([r_1[0]],[r_1[1]], 'ro')\n",
    "plt.plot([r_2[0]],[r_2[1]], 'go')\n",
    "\n",
    "plt.show()"
   ]
  },
  {
   "cell_type": "code",
   "execution_count": 112,
   "id": "70fc1996-402a-41ee-af0f-d87e48d65e60",
   "metadata": {
    "colab": {
     "base_uri": "https://localhost:8080/",
     "height": 320
    },
    "executionInfo": {
     "elapsed": 393,
     "status": "ok",
     "timestamp": 1664990222502,
     "user": {
      "displayName": "Кирилл",
      "userId": "18181508316840793232"
     },
     "user_tz": -180
    },
    "id": "c4b30595-0254-46d6-9ad3-0a1950e517d6",
    "outputId": "7e8f81e4-975f-4ec0-8581-73e62413efd3"
   },
   "outputs": [
    {
     "data": {
      "image/png": "[encoded data removed]",
      "text/plain": [
       "<Figure size 500x500 with 1 Axes>"
      ]
     },
     "metadata": {},
     "output_type": "display_data"
    }
   ],
   "source": [
    "fig, ax = plt.subplots(figsize=(5, 5))\n",
    "\n",
    "# All obtained points\n",
    "plt.plot(xes_1, ycs_1, 'bo')\n",
    "plt.plot(xes_2, ycs_2, 'bo')\n",
    "\n",
    "# Original points\n",
    "plt.plot([r_1[0]],[r_1[1]], 'ro')\n",
    "plt.plot([r_2[0]],[r_2[1]], 'go')\n",
    "\n",
    "# Periodic set\n",
    "fx_set = [r_1[0], r_2[0]] \n",
    "fy_set = [r_1[1], r_2[1]]\n",
    "plt.plot(fx_set, fy_set)\n",
    "\n",
    "# Periodic cell boundaries\n",
    "px_set = [r_1[0], r_1[0]+a[0]/2, r_1[0]+a[0]/2, r_1[0], r_1[0]]\n",
    "py_set = [r_1[1], r_1[1]+b[0]/2, r_1[1]+b[1]/2, r_1[0]+b[1]/2, r_1[1]]\n",
    "plt.plot(px_set, py_set, 'k--')\n",
    "\n",
    "# Conventional cell boundaries\n",
    "cx_set = [r_1[0], r_1[0]+a[0], r_1[0]+a[0], r_1[0] + b[0], r_1[0]]\n",
    "cy_set = [r_1[1], r_1[1]+b[0], r_1[1]+b[1], r_1[0] + b[1], r_1[1]]\n",
    "plt.plot(cx_set, cy_set)\n",
    "\n",
    "# Translation vectors\n",
    "plt.arrow(r_1[0], r_1[1], a[0]*1.5, a[1]*1.5, width=0.05)\n",
    "plt.arrow(r_1[0], r_1[1], b[0]*1.5, b[1]*1.5, width=0.05)\n",
    "\n",
    "plt.show()"
   ]
  },
  {
   "cell_type": "markdown",
   "id": "f99d5a20-0678-44bb-8388-690a13e88d7d",
   "metadata": {
    "id": "ba6ad847-8b72-413b-a58e-94c8d4236213"
   },
   "source": [
    "## Несколько сортов атомов"
   ]
  },
  {
   "cell_type": "code",
   "execution_count": 113,
   "id": "e6716dc7-9423-434e-bf0f-e196226fb18c",
   "metadata": {
    "colab": {
     "base_uri": "https://localhost:8080/",
     "height": 320
    },
    "executionInfo": {
     "elapsed": 284,
     "status": "ok",
     "timestamp": 1664990499318,
     "user": {
      "displayName": "Кирилл",
      "userId": "18181508316840793232"
     },
     "user_tz": -180
    },
    "id": "cb873b55-e978-4680-9ac4-35eba8e641ac",
    "outputId": "368136dd-4508-4828-c9d9-05e2e638057e"
   },
   "outputs": [
    {
     "data": {
      "image/png": "[encoded data removed]",
      "text/plain": [
       "<Figure size 500x500 with 1 Axes>"
      ]
     },
     "metadata": {},
     "output_type": "display_data"
    }
   ],
   "source": [
    "a = np.array([1,0])\n",
    "b = np.array([0,1])\n",
    "\n",
    "r_1 = [0.0,0.0] # corner site atom\n",
    "r_2 = [0.5,0.5] # centered atom\n",
    "\n",
    "# translations sets\n",
    "n_1 = np.arange(0, 4, 1)\n",
    "n_2 = np.arange(0, 4, 1)\n",
    "\n",
    "xes_1, ycs_1 = get_xy(a, b, r_1, n_1, n_2)\n",
    "xes_2, ycs_2 = get_xy(a, b, r_2, n_1, n_2)\n",
    "\n",
    "fig, ax = plt.subplots(figsize=(5, 5))\n",
    "plt.plot(xes_1, ycs_1, 'bo')\n",
    "plt.plot(xes_2, ycs_2, 'ro')\n",
    "plt.show()"
   ]
  },
  {
   "cell_type": "markdown",
   "id": "78facb32-908b-40ad-a22e-a48f8984e348",
   "metadata": {
    "id": "29428bad-4924-48ca-8505-645fd95acdb9"
   },
   "source": [
    "---"
   ]
  },
  {
   "cell_type": "markdown",
   "id": "b5fe1390-97ec-45c8-866d-4c37673f5abd",
   "metadata": {
    "id": "65ecfedb-f467-4eee-8ccb-f91201a2a88e"
   },
   "source": [
    "## Трехмерный случай, с использованием формата записи, аналогичного `POSCAR`:"
   ]
  },
  {
   "cell_type": "code",
   "execution_count": 170,
   "id": "53b0dc24-b78a-4c41-8225-30d88ce5c10c",
   "metadata": {
    "executionInfo": {
     "elapsed": 266,
     "status": "ok",
     "timestamp": 1664990908068,
     "user": {
      "displayName": "Кирилл",
      "userId": "18181508316840793232"
     },
     "user_tz": -180
    },
    "id": "741ea09a-08ff-4593-b4f0-bb5d2b577218"
   },
   "outputs": [],
   "source": [
    "def get_xyz(s, a, b, c, r, repeat=1):\n",
    "    # translations sets\n",
    "    n_1 = n_2 = n_3 = np.arange(-repeat, repeat, 1)\n",
    "\n",
    "    # collect all combinations of translated points (limited) \n",
    "    xes, ycs, zds = [], [], []\n",
    "    for n_i in product(n_1, repeat=3):\n",
    "        \n",
    "        # Periodic Boundary Conditions (PBC)\n",
    "        r_prime = r + n_i[0]*s*a + n_i[1]*s*b + n_i[2]*s*c\n",
    "        \n",
    "        xes.append(r_prime[0])\n",
    "        ycs.append(r_prime[1])\n",
    "        zds.append(r_prime[2])\n",
    "        \n",
    "    return xes, ycs, zds\n",
    "\n",
    "def plot_2d(s, ax, proj=['x','y'], repeat=1):\n",
    "    for r in s['coords']:\n",
    "        xes,ycs,zds = get_xyz(s['s'], s['a'], s['b'], s['c'], r, repeat=repeat)\n",
    "        coords_to_plot = {'x':xes, 'y':ycs, 'z':zds}\n",
    "        ax.scatter(coords_to_plot[proj[0]],coords_to_plot[proj[1]])\n",
    "        ax.set_aspect(aspect='equal')\n",
    "        ax.set_xlabel(proj[0])\n",
    "        ax.set_ylabel(proj[1])"
   ]
  },
  {
   "cell_type": "markdown",
   "id": "aaea326f-4d32-4b3b-8688-a6c484bdfee3",
   "metadata": {
    "id": "6c74920a-aedf-4e37-9e05-b61753cc78cd"
   },
   "source": [
    "В формате POSCAR (VASP) вводится так называемый 'scale factor' `s`, который позволяет более явно визуально отразить соотношения векторов трансляции.\n",
    "\n",
    "При этом наборы трансляций в реальности не нужны (объясняется ниже)."
   ]
  },
  {
   "cell_type": "code",
   "execution_count": 200,
   "id": "69e2b7d8-a1c6-4115-ac6b-5c2606e68b8b",
   "metadata": {
    "executionInfo": {
     "elapsed": 840,
     "status": "ok",
     "timestamp": 1664990881517,
     "user": {
      "displayName": "Кирилл",
      "userId": "18181508316840793232"
     },
     "user_tz": -180
    },
    "id": "00d5a73d-6e5b-4b42-81f5-d11edbd4e9f1"
   },
   "outputs": [
    {
     "data": {
      "text/plain": [
       "{'s': 1,\n",
       " 'a': array([1., 0., 0.]),\n",
       " 'b': array([0., 1., 0.]),\n",
       " 'c': array([0., 0., 1.]),\n",
       " 'coords': [[0.0, 0.0, 0.0]]}"
      ]
     },
     "execution_count": 200,
     "metadata": {},
     "output_type": "execute_result"
    }
   ],
   "source": [
    "structure = {\n",
    "    # scale factor\n",
    "    's':1,\n",
    "    \n",
    "    # translations vectors\n",
    "    'a':np.array([1.0, 0.0, 0.0]),\n",
    "    'b':np.array([0.0, 1.0, 0.0]),\n",
    "    'c':np.array([0.0, 0.0, 1.0]),\n",
    "     \n",
    "    # points' coordinates\n",
    "    'coords':[\n",
    "        [0.0, 0.0, 0.0],\n",
    "        # [0.5, 0.5, 0.5],\n",
    "    ]\n",
    "}\n",
    "\n",
    "structure"
   ]
  },
  {
   "cell_type": "markdown",
   "id": "c0b58331-54b9-4046-82c6-dd982d00d756",
   "metadata": {
    "id": "9c47f19a-15b6-4c95-a9de-fc8c92e261c3"
   },
   "source": [
    "В трёхмерном случае базис векторов трансляции определеяющий структуру $ T = n_1\\vec{a} + n_2\\vec{b} + n_3\\vec{c} $ определен всеми тремя числами $n$ и всеми тремя векторами $\\vec{a}$, $\\vec{b}$ и $\\vec{c}$.\n",
    "\n",
    "Тогда любая произвольная точка рассматриваемого одномерного пространства будет определена координатой $r'$, с учётом базиса векторов трансляции $T$ для рассматривамого **трёхмерного** случая:\n",
    "\n",
    "$ r' = r + n_1*\\vec{a} + n_2*\\vec{b} + n_3*\\vec{c} $ \n",
    "- где $n_i$ - любое произвольное число\n",
    "\n",
    "Определим соответствующую функцию для нахождения координат каждого атома в рассматриваемой структуре:"
   ]
  },
  {
   "cell_type": "code",
   "execution_count": 203,
   "id": "96522050-2e92-4fbb-b582-a4eccd7f0b88",
   "metadata": {
    "colab": {
     "base_uri": "https://localhost:8080/",
     "height": 248
    },
    "executionInfo": {
     "elapsed": 477,
     "status": "ok",
     "timestamp": 1664990932394,
     "user": {
      "displayName": "Кирилл",
      "userId": "18181508316840793232"
     },
     "user_tz": -180
    },
    "id": "9f2d1ba8-f87f-47cf-a371-deeeef7a7b7e",
    "outputId": "173cb97e-6e7b-439f-a8d6-e32d20de0b6a"
   },
   "outputs": [
    {
     "data": {
      "image/png": "[encoded data removed]",
      "text/plain": [
       "<Figure size 1200x600 with 4 Axes>"
      ]
     },
     "metadata": {},
     "output_type": "display_data"
    }
   ],
   "source": [
    "from mpl_toolkits.mplot3d import Axes3D\n",
    "\n",
    "repeats = 2\n",
    "\n",
    "fig = plt.figure(figsize=(12,6))\n",
    "\n",
    "ax = fig.add_subplot(141)\n",
    "plot_2d(s=structure, ax=ax, proj=['x','y'], repeat=repeats)\n",
    "\n",
    "ax = fig.add_subplot(142)\n",
    "plot_2d(s=structure, ax=ax, proj=['y','z'], repeat=repeats)\n",
    "\n",
    "ax = fig.add_subplot(143)\n",
    "plot_2d(s=structure, ax=ax, proj=['x','z'], repeat=repeats)\n",
    "\n",
    "ax = fig.add_subplot(144, projection='3d')\n",
    "for r in structure['coords']:\n",
    "    xes, ycs, zds = get_xyz(structure['s'], structure['a'], structure['b'], structure['c'], r, repeat=repeats)\n",
    "    ax.scatter(xes, ycs, zds)\n",
    "\n",
    "plt.tight_layout()\n",
    "plt.show()"
   ]
  },
  {
   "cell_type": "markdown",
   "id": "e1576e37-e8fd-4c9b-92c0-3978f11570d3",
   "metadata": {},
   "source": [
    "# Regular format"
   ]
  },
  {
   "cell_type": "code",
   "execution_count": null,
   "id": "283f4a38-ccad-4cdc-9fba-329e022812f9",
   "metadata": {},
   "outputs": [],
   "source": [
    "def get_xyz(s, a, b, c, r, repeat=1):\n",
    "    # translations sets\n",
    "    n_1 = n_2 = n_3 = np.arange(-repeat, repeat, 1)\n",
    "\n",
    "    # collect all combinations of translated points (limited) \n",
    "    xes, ycs, zds = [], [], []\n",
    "    for n_i in product(n_1, repeat=3):\n",
    "        \n",
    "        # Periodic Boundary Conditions (PBC)\n",
    "        r_prime = r + n_i[0]*s*a + n_i[1]*s*b + n_i[2]*s*c\n",
    "        \n",
    "        xes.append(r_prime[0])\n",
    "        ycs.append(r_prime[1])\n",
    "        zds.append(r_prime[2])\n",
    "        \n",
    "    return xes, ycs, zds\n",
    "\n",
    "def plot_2d(s, ax, proj=['x','y'], repeat=1):\n",
    "    for r in s['coords']:\n",
    "        xes,ycs,zds = get_xyz(s['s'], s['a'], s['b'], s['c'], r, repeat=repeat)\n",
    "        coords_to_plot = {'x':xes, 'y':ycs, 'z':zds}\n",
    "        ax.scatter(coords_to_plot[proj[0]],coords_to_plot[proj[1]])\n",
    "        ax.set_aspect(aspect='equal')\n",
    "        ax.set_xlabel(proj[0])\n",
    "        ax.set_ylabel(proj[1])"
   ]
  },
  {
   "cell_type": "code",
   "execution_count": 1,
   "id": "a9a600ac-37db-4229-9d07-5dd53e136bfd",
   "metadata": {},
   "outputs": [
    {
     "data": {
      "text/plain": [
       "'# POSCAR file for hexagonal ice (H2O ice)\\n1.0\\n4.498 0.000 0.000\\n-2.249 3.897 0.000\\n0.000 0.000 3.200\\nH O\\n2 1\\nDirect\\n0.333333 0.666667 0.250000\\n0.666667 0.333333 0.750000\\n0.333333 0.666667 0.750000\\n'"
      ]
     },
     "execution_count": 1,
     "metadata": {},
     "output_type": "execute_result"
    }
   ],
   "source": [
    "file = '''# POSCAR file for hexagonal ice (H2O ice)\n",
    "1.0\n",
    "4.498 0.000 0.000\n",
    "-2.249 3.897 0.000\n",
    "0.000 0.000 3.200\n",
    "H O\n",
    "2 1\n",
    "Direct\n",
    "0.333333 0.666667 0.250000\n",
    "0.666667 0.333333 0.750000\n",
    "0.333333 0.666667 0.750000\n",
    "'''\n",
    "file"
   ]
  },
  {
   "cell_type": "code",
   "execution_count": 2,
   "id": "a0624299-0594-4a90-98d5-96338f40ec72",
   "metadata": {},
   "outputs": [
    {
     "name": "stdout",
     "output_type": "stream",
     "text": [
      "Intel MKL WARNING: Support of Intel(R) Streaming SIMD Extensions 4.2 (Intel(R) SSE4.2) enabled only processors has been deprecated. Intel oneAPI Math Kernel Library 2025.0 will require Intel(R) Advanced Vector Extensions (Intel(R) AVX) instructions.\n",
      "Intel MKL WARNING: Support of Intel(R) Streaming SIMD Extensions 4.2 (Intel(R) SSE4.2) enabled only processors has been deprecated. Intel oneAPI Math Kernel Library 2025.0 will require Intel(R) Advanced Vector Extensions (Intel(R) AVX) instructions.\n"
     ]
    }
   ],
   "source": [
    "from pymatgen.io.vasp import inputs"
   ]
  },
  {
   "cell_type": "code",
   "execution_count": 3,
   "id": "6f36c86f-355c-430e-be9b-577ff1140b88",
   "metadata": {},
   "outputs": [],
   "source": [
    "s = inputs.Poscar.from_str(file).structure"
   ]
  },
  {
   "cell_type": "code",
   "execution_count": 4,
   "id": "9acf13b4-8dff-4c83-b7cf-aeb2ddc8aa44",
   "metadata": {},
   "outputs": [],
   "source": [
    "# ! pip install nglview\n",
    "# ! pip install ase"
   ]
  },
  {
   "cell_type": "code",
   "execution_count": 5,
   "id": "f2fa4113-b3e0-439d-81d1-961f9c70b0a6",
   "metadata": {},
   "outputs": [
    {
     "data": {
      "application/vnd.jupyter.widget-view+json": {
       "model_id": "03ddfb3fc3e04371810679ad12f1869b",
       "version_major": 2,
       "version_minor": 0
      },
      "text/plain": []
     },
     "metadata": {},
     "output_type": "display_data"
    },
    {
     "data": {
      "application/vnd.jupyter.widget-view+json": {
       "model_id": "0dc154e3a8d84f34a6fbabb51360ec1a",
       "version_major": 2,
       "version_minor": 0
      },
      "text/plain": [
       "NGLWidget()"
      ]
     },
     "metadata": {},
     "output_type": "display_data"
    }
   ],
   "source": [
    "import nglview as nv\n",
    "\n",
    "def visualize(struct):\n",
    "    view = nv.show_pymatgen(struct)\n",
    "    view.representations = [{\"type\": 'ball+stick', \"params\": {}}]\n",
    "    view._remote_call('setSize', args=['','400px'])\n",
    "#     view.camera = 'orthographic' # uncomment to see what will happen\n",
    "    view.add_unitcell()\n",
    "    return view\n",
    "\n",
    "visualize(s)"
   ]
  },
  {
   "cell_type": "markdown",
   "id": "b4aeab5a-e204-4253-8810-273d3082fd5b",
   "metadata": {},
   "source": [
    "# What is Machine Learning"
   ]
  },
  {
   "cell_type": "code",
   "execution_count": null,
   "id": "c68ee2b3-7332-4065-80d2-41e3e2e6fa31",
   "metadata": {},
   "outputs": [],
   "source": []
  },
  {
   "cell_type": "markdown",
   "id": "548cfdf1-e391-45c8-98e5-1be824b76f64",
   "metadata": {},
   "source": [
    "# What properties we can predict"
   ]
  },
  {
   "cell_type": "code",
   "execution_count": null,
   "id": "0e61520b-b107-4564-8270-d1b29b17bbbb",
   "metadata": {},
   "outputs": [],
   "source": []
  },
  {
   "cell_type": "markdown",
   "id": "077893e0-8dbe-4975-ac7e-656073b8f12e",
   "metadata": {},
   "source": [
    "# My first ML-model for crystal properites prediction"
   ]
  },
  {
   "cell_type": "code",
   "execution_count": null,
   "id": "6b425d40-683e-4db2-93e4-207192b7828a",
   "metadata": {},
   "outputs": [],
   "source": []
  },
  {
   "cell_type": "markdown",
   "id": "fe8ecb54-c019-4483-8785-73b510d7f46b",
   "metadata": {},
   "source": [
    "# Individual task: Design a New Material"
   ]
  },
  {
   "cell_type": "code",
   "execution_count": null,
   "id": "91c8544c-e89e-463b-af13-366fc3128691",
   "metadata": {},
   "outputs": [],
   "source": []
  }
 ],
 "metadata": {
  "kernelspec": {
   "display_name": "Python 3 (ipykernel)",
   "language": "python",
   "name": "python3"
  },
  "language_info": {
   "codemirror_mode": {
    "name": "ipython",
    "version": 3
   },
   "file_extension": ".py",
   "mimetype": "text/x-python",
   "name": "python",
   "nbconvert_exporter": "python",
   "pygments_lexer": "ipython3",
   "version": "3.10.13"
  }
 },
 "nbformat": 4,
 "nbformat_minor": 5
}
